{
 "cells": [
  {
   "cell_type": "markdown",
   "metadata": {},
   "source": [
    "# Bivariate point pattern-Eddy"
   ]
  },
  {
   "cell_type": "markdown",
   "metadata": {},
   "source": [
    "- All points have a binary attribute: belongs to species 1 or 2. Think about what pattern will be for species 2 according to species 1. \n",
    "\n",
    "## Existing methods\n",
    "\n",
    "- Cross K-function\n",
    "- Markov spatial point process model\n",
    "- G/F/J function\n",
    "\n",
    "## Graph\n",
    "\n",
    "- Gabriel graph (distance between two points represent the diameter of a circle, then no other point in this circle)\n",
    "- Voronoi diagram\n",
    "- Delaunay Triangulation\n",
    "\n",
    "## Example\n",
    "- Comparing current point pattern with CSR by simulation \n",
    "- Random labeling: actual pattern fixes.(Different from Monte Carlo)\n",
    "\n",
    "### Ant nest case study\n",
    "- Type 1-2 join count over the minimum spanning tree (undirected graph connecting all nodes w/minimum edge graph)\n",
    "- A-A, A-B, B-B (MST), do the simulation, try to find the cluster\n",
    "- Red line is the observed value, histogram comes from random labeling. (different from Monte Carlo)\n",
    "\n",
    "### Ecology example\n",
    "- Prey and predator distributions not stationary\n",
    "- pair correlation function for bivariate analysis\n",
    "\n",
    "### Bovine tuberculosis\n",
    "- spatial segregation = repulsion\n",
    "- Monte Carlo simulations to generate null hypothesis of a lack of spatial variation\n",
    "\n",
    "## Discussion\n",
    "- correlation v. causation\n",
    "- mutual nearest neighbors v. nearest neighbors\n",
    "- K-function: draw circles on species 1, see how many species 2 points are in the circle, get a K-function curve. \n",
    "- Scale v. process\n",
    "- Read line = theoretical value (mean value of the poisson process)\n",
    "- Joint count: only have the neighbor connection, will not deal with distance, but K/F/G can take the distance account. \n",
    "\n",
    "## There is not a good decision tree at spatial analysis\n",
    "\n",
    "### Application\n",
    "- physical geography\n",
    "- urban geography\n",
    "- economic geography \n",
    "- Question: point or polygon? adjacency?\n",
    "\n",
    "## point pattern analysis software\n",
    "- Spatstat: R\n",
    "- Fortran "
   ]
  },
  {
   "cell_type": "code",
   "execution_count": null,
   "metadata": {
    "collapsed": true
   },
   "outputs": [],
   "source": []
  }
 ],
 "metadata": {
  "kernelspec": {
   "display_name": "Python 2",
   "language": "python",
   "name": "python2"
  },
  "language_info": {
   "codemirror_mode": {
    "name": "ipython",
    "version": 2
   },
   "file_extension": ".py",
   "mimetype": "text/x-python",
   "name": "python",
   "nbconvert_exporter": "python",
   "pygments_lexer": "ipython2",
   "version": "2.7.11"
  }
 },
 "nbformat": 4,
 "nbformat_minor": 0
}
